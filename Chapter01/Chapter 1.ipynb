{
 "cells": [
  {
   "cell_type": "markdown",
   "metadata": {},
   "source": [
    "## Exercise 1: Accessing the List Members "
   ]
  },
  {
   "cell_type": "markdown",
   "metadata": {},
   "source": [
    "1. Define a list called list_1 with four integer members"
   ]
  },
  {
   "cell_type": "code",
   "execution_count": 23,
   "metadata": {},
   "outputs": [
    {
     "data": {
      "text/plain": [
       "[34, 12, 89, 1]"
      ]
     },
     "execution_count": 23,
     "metadata": {},
     "output_type": "execute_result"
    }
   ],
   "source": [
    "list_1 = [34, 12, 89, 1]\n",
    "list_1"
   ]
  },
  {
   "cell_type": "markdown",
   "metadata": {},
   "source": [
    "2. Access the first element from list_1"
   ]
  },
  {
   "cell_type": "code",
   "execution_count": 24,
   "metadata": {},
   "outputs": [
    {
     "data": {
      "text/plain": [
       "34"
      ]
     },
     "execution_count": 24,
     "metadata": {},
     "output_type": "execute_result"
    }
   ],
   "source": [
    "list_1[0]"
   ]
  },
  {
   "cell_type": "markdown",
   "metadata": {},
   "source": [
    "3. Access the last element from list_1"
   ]
  },
  {
   "cell_type": "code",
   "execution_count": 25,
   "metadata": {},
   "outputs": [
    {
     "data": {
      "text/plain": [
       "1"
      ]
     },
     "execution_count": 25,
     "metadata": {},
     "output_type": "execute_result"
    }
   ],
   "source": [
    "list_1[3]"
   ]
  },
  {
   "cell_type": "markdown",
   "metadata": {},
   "source": [
    "4. Access the last element from list_1"
   ]
  },
  {
   "cell_type": "code",
   "execution_count": 26,
   "metadata": {},
   "outputs": [
    {
     "data": {
      "text/plain": [
       "1"
      ]
     },
     "execution_count": 26,
     "metadata": {},
     "output_type": "execute_result"
    }
   ],
   "source": [
    "list_1[len(list_1) - 1]"
   ]
  },
  {
   "cell_type": "markdown",
   "metadata": {},
   "source": [
    "5. Access the last element from list_1"
   ]
  },
  {
   "cell_type": "code",
   "execution_count": 27,
   "metadata": {},
   "outputs": [
    {
     "data": {
      "text/plain": [
       "1"
      ]
     },
     "execution_count": 27,
     "metadata": {},
     "output_type": "execute_result"
    }
   ],
   "source": [
    "list_1[-1]"
   ]
  },
  {
   "cell_type": "markdown",
   "metadata": {},
   "source": [
    "6. Access the first three elements from list_1 "
   ]
  },
  {
   "cell_type": "code",
   "execution_count": 28,
   "metadata": {},
   "outputs": [
    {
     "data": {
      "text/plain": [
       "[12, 89]"
      ]
     },
     "execution_count": 28,
     "metadata": {},
     "output_type": "execute_result"
    }
   ],
   "source": [
    "list_1[1:3]"
   ]
  },
  {
   "cell_type": "markdown",
   "metadata": {},
   "source": [
    "7. Access the last two elements from list_1"
   ]
  },
  {
   "cell_type": "code",
   "execution_count": 29,
   "metadata": {},
   "outputs": [
    {
     "data": {
      "text/plain": [
       "[89, 1]"
      ]
     },
     "execution_count": 29,
     "metadata": {},
     "output_type": "execute_result"
    }
   ],
   "source": [
    "list_1[-2:]"
   ]
  },
  {
   "cell_type": "markdown",
   "metadata": {},
   "source": [
    "8. Access the first two elements using backward indices"
   ]
  },
  {
   "cell_type": "code",
   "execution_count": 30,
   "metadata": {},
   "outputs": [
    {
     "data": {
      "text/plain": [
       "[34, 12]"
      ]
     },
     "execution_count": 30,
     "metadata": {},
     "output_type": "execute_result"
    }
   ],
   "source": [
    "list_1[:-2]"
   ]
  },
  {
   "cell_type": "markdown",
   "metadata": {},
   "source": [
    "9. Reverse the elements in the list"
   ]
  },
  {
   "cell_type": "code",
   "execution_count": 31,
   "metadata": {},
   "outputs": [
    {
     "data": {
      "text/plain": [
       "[1, 89, 12, 34]"
      ]
     },
     "execution_count": 31,
     "metadata": {},
     "output_type": "execute_result"
    }
   ],
   "source": [
    "list_1[-1::-1]"
   ]
  },
  {
   "cell_type": "markdown",
   "metadata": {},
   "source": [
    "## Exercise 2: Generating a List "
   ]
  },
  {
   "cell_type": "markdown",
   "metadata": {},
   "source": [
    "1. Create a list using the append method"
   ]
  },
  {
   "cell_type": "code",
   "execution_count": 1,
   "metadata": {},
   "outputs": [
    {
     "data": {
      "text/plain": [
       "[0, 1, 2, 3, 4, 5, 6, 7, 8, 9]"
      ]
     },
     "execution_count": 1,
     "metadata": {},
     "output_type": "execute_result"
    }
   ],
   "source": [
    "list_1 = [] \n",
    "\n",
    "for x in range(0, 10): \n",
    "\n",
    "    list_1.append(x) \n",
    "\n",
    "list_1 "
   ]
  },
  {
   "cell_type": "markdown",
   "metadata": {},
   "source": [
    "2.Generate a list"
   ]
  },
  {
   "cell_type": "code",
   "execution_count": 4,
   "metadata": {},
   "outputs": [
    {
     "data": {
      "text/plain": [
       "[0,\n",
       " 1,\n",
       " 2,\n",
       " 3,\n",
       " 4,\n",
       " 5,\n",
       " 6,\n",
       " 7,\n",
       " 8,\n",
       " 9,\n",
       " 10,\n",
       " 11,\n",
       " 12,\n",
       " 13,\n",
       " 14,\n",
       " 15,\n",
       " 16,\n",
       " 17,\n",
       " 18,\n",
       " 19,\n",
       " 20,\n",
       " 21,\n",
       " 22,\n",
       " 23,\n",
       " 24,\n",
       " 25,\n",
       " 26,\n",
       " 27,\n",
       " 28,\n",
       " 29,\n",
       " 30,\n",
       " 31,\n",
       " 32,\n",
       " 33,\n",
       " 34,\n",
       " 35,\n",
       " 36,\n",
       " 37,\n",
       " 38,\n",
       " 39,\n",
       " 40,\n",
       " 41,\n",
       " 42,\n",
       " 43,\n",
       " 44,\n",
       " 45,\n",
       " 46,\n",
       " 47,\n",
       " 48,\n",
       " 49,\n",
       " 50,\n",
       " 51,\n",
       " 52,\n",
       " 53,\n",
       " 54,\n",
       " 55,\n",
       " 56,\n",
       " 57,\n",
       " 58,\n",
       " 59,\n",
       " 60,\n",
       " 61,\n",
       " 62,\n",
       " 63,\n",
       " 64,\n",
       " 65,\n",
       " 66,\n",
       " 67,\n",
       " 68,\n",
       " 69,\n",
       " 70,\n",
       " 71,\n",
       " 72,\n",
       " 73,\n",
       " 74,\n",
       " 75,\n",
       " 76,\n",
       " 77,\n",
       " 78,\n",
       " 79,\n",
       " 80,\n",
       " 81,\n",
       " 82,\n",
       " 83,\n",
       " 84,\n",
       " 85,\n",
       " 86,\n",
       " 87,\n",
       " 88,\n",
       " 89,\n",
       " 90,\n",
       " 91,\n",
       " 92,\n",
       " 93,\n",
       " 94,\n",
       " 95,\n",
       " 96,\n",
       " 97,\n",
       " 98,\n",
       " 99]"
      ]
     },
     "execution_count": 4,
     "metadata": {},
     "output_type": "execute_result"
    }
   ],
   "source": [
    "list_2 = [x for x in range(0, 100)] \n",
    "\n",
    "list_2"
   ]
  },
  {
   "cell_type": "markdown",
   "metadata": {},
   "source": [
    "3. User two loops to iterate through both lists"
   ]
  },
  {
   "cell_type": "code",
   "execution_count": 6,
   "metadata": {},
   "outputs": [
    {
     "name": "stdout",
     "output_type": "stream",
     "text": [
      "0,0\n",
      "0,1\n",
      "0,2\n",
      "0,3\n",
      "0,4\n",
      "0,5\n",
      "0,6\n",
      "0,7\n",
      "0,8\n",
      "0,9\n",
      "0,10\n",
      "0,11\n",
      "0,12\n",
      "0,13\n",
      "0,14\n",
      "0,15\n",
      "0,16\n",
      "0,17\n",
      "0,18\n",
      "0,19\n",
      "0,20\n",
      "0,21\n",
      "0,22\n",
      "0,23\n",
      "0,24\n",
      "0,25\n",
      "0,26\n",
      "0,27\n",
      "0,28\n",
      "0,29\n",
      "0,30\n",
      "0,31\n",
      "0,32\n",
      "0,33\n",
      "0,34\n",
      "0,35\n",
      "0,36\n",
      "0,37\n",
      "0,38\n",
      "0,39\n",
      "0,40\n",
      "0,41\n",
      "0,42\n",
      "0,43\n",
      "0,44\n",
      "0,45\n",
      "0,46\n",
      "0,47\n",
      "0,48\n",
      "0,49\n",
      "0,50\n",
      "0,51\n",
      "0,52\n",
      "0,53\n",
      "0,54\n",
      "0,55\n",
      "0,56\n",
      "0,57\n",
      "0,58\n",
      "0,59\n",
      "0,60\n",
      "0,61\n",
      "0,62\n",
      "0,63\n",
      "0,64\n",
      "0,65\n",
      "0,66\n",
      "0,67\n",
      "0,68\n",
      "0,69\n",
      "0,70\n",
      "0,71\n",
      "0,72\n",
      "0,73\n",
      "0,74\n",
      "0,75\n",
      "0,76\n",
      "0,77\n",
      "0,78\n",
      "0,79\n",
      "0,80\n",
      "0,81\n",
      "0,82\n",
      "0,83\n",
      "0,84\n",
      "0,85\n",
      "0,86\n",
      "0,87\n",
      "0,88\n",
      "0,89\n",
      "0,90\n",
      "0,91\n",
      "0,92\n",
      "0,93\n",
      "0,94\n",
      "0,95\n",
      "0,96\n",
      "0,97\n",
      "0,98\n",
      "0,99\n",
      "1,0\n",
      "1,1\n",
      "1,2\n",
      "1,3\n",
      "1,4\n",
      "1,5\n",
      "1,6\n",
      "1,7\n",
      "1,8\n",
      "1,9\n",
      "1,10\n",
      "1,11\n",
      "1,12\n",
      "1,13\n",
      "1,14\n",
      "1,15\n",
      "1,16\n",
      "1,17\n",
      "1,18\n",
      "1,19\n",
      "1,20\n",
      "1,21\n",
      "1,22\n",
      "1,23\n",
      "1,24\n",
      "1,25\n",
      "1,26\n",
      "1,27\n",
      "1,28\n",
      "1,29\n",
      "1,30\n",
      "1,31\n",
      "1,32\n",
      "1,33\n",
      "1,34\n",
      "1,35\n",
      "1,36\n",
      "1,37\n",
      "1,38\n",
      "1,39\n",
      "1,40\n",
      "1,41\n",
      "1,42\n",
      "1,43\n",
      "1,44\n",
      "1,45\n",
      "1,46\n",
      "1,47\n",
      "1,48\n",
      "1,49\n",
      "1,50\n",
      "1,51\n",
      "1,52\n",
      "1,53\n",
      "1,54\n",
      "1,55\n",
      "1,56\n",
      "1,57\n",
      "1,58\n",
      "1,59\n",
      "1,60\n",
      "1,61\n",
      "1,62\n",
      "1,63\n",
      "1,64\n",
      "1,65\n",
      "1,66\n",
      "1,67\n",
      "1,68\n",
      "1,69\n",
      "1,70\n",
      "1,71\n",
      "1,72\n",
      "1,73\n",
      "1,74\n",
      "1,75\n",
      "1,76\n",
      "1,77\n",
      "1,78\n",
      "1,79\n",
      "1,80\n",
      "1,81\n",
      "1,82\n",
      "1,83\n",
      "1,84\n",
      "1,85\n",
      "1,86\n",
      "1,87\n",
      "1,88\n",
      "1,89\n",
      "1,90\n",
      "1,91\n",
      "1,92\n",
      "1,93\n",
      "1,94\n",
      "1,95\n",
      "1,96\n",
      "1,97\n",
      "1,98\n",
      "1,99\n",
      "2,0\n",
      "2,1\n",
      "2,2\n",
      "2,3\n",
      "2,4\n",
      "2,5\n",
      "2,6\n",
      "2,7\n",
      "2,8\n",
      "2,9\n",
      "2,10\n",
      "2,11\n",
      "2,12\n",
      "2,13\n",
      "2,14\n",
      "2,15\n",
      "2,16\n",
      "2,17\n",
      "2,18\n",
      "2,19\n",
      "2,20\n",
      "2,21\n",
      "2,22\n",
      "2,23\n",
      "2,24\n",
      "2,25\n",
      "2,26\n",
      "2,27\n",
      "2,28\n",
      "2,29\n",
      "2,30\n",
      "2,31\n",
      "2,32\n",
      "2,33\n",
      "2,34\n",
      "2,35\n",
      "2,36\n",
      "2,37\n",
      "2,38\n",
      "2,39\n",
      "2,40\n",
      "2,41\n",
      "2,42\n",
      "2,43\n",
      "2,44\n",
      "2,45\n",
      "2,46\n",
      "2,47\n",
      "2,48\n",
      "2,49\n",
      "2,50\n",
      "2,51\n",
      "2,52\n",
      "2,53\n",
      "2,54\n",
      "2,55\n",
      "2,56\n",
      "2,57\n",
      "2,58\n",
      "2,59\n",
      "2,60\n",
      "2,61\n",
      "2,62\n",
      "2,63\n",
      "2,64\n",
      "2,65\n",
      "2,66\n",
      "2,67\n",
      "2,68\n",
      "2,69\n",
      "2,70\n",
      "2,71\n",
      "2,72\n",
      "2,73\n",
      "2,74\n",
      "2,75\n",
      "2,76\n",
      "2,77\n",
      "2,78\n",
      "2,79\n",
      "2,80\n",
      "2,81\n",
      "2,82\n",
      "2,83\n",
      "2,84\n",
      "2,85\n",
      "2,86\n",
      "2,87\n",
      "2,88\n",
      "2,89\n",
      "2,90\n",
      "2,91\n",
      "2,92\n",
      "2,93\n",
      "2,94\n",
      "2,95\n",
      "2,96\n",
      "2,97\n",
      "2,98\n",
      "2,99\n",
      "3,0\n",
      "3,1\n",
      "3,2\n",
      "3,3\n",
      "3,4\n",
      "3,5\n",
      "3,6\n",
      "3,7\n",
      "3,8\n",
      "3,9\n",
      "3,10\n",
      "3,11\n",
      "3,12\n",
      "3,13\n",
      "3,14\n",
      "3,15\n",
      "3,16\n",
      "3,17\n",
      "3,18\n",
      "3,19\n",
      "3,20\n",
      "3,21\n",
      "3,22\n",
      "3,23\n",
      "3,24\n",
      "3,25\n",
      "3,26\n",
      "3,27\n",
      "3,28\n",
      "3,29\n",
      "3,30\n",
      "3,31\n",
      "3,32\n",
      "3,33\n",
      "3,34\n",
      "3,35\n",
      "3,36\n",
      "3,37\n",
      "3,38\n",
      "3,39\n",
      "3,40\n",
      "3,41\n",
      "3,42\n",
      "3,43\n",
      "3,44\n",
      "3,45\n",
      "3,46\n",
      "3,47\n",
      "3,48\n",
      "3,49\n",
      "3,50\n",
      "3,51\n",
      "3,52\n",
      "3,53\n",
      "3,54\n",
      "3,55\n",
      "3,56\n",
      "3,57\n",
      "3,58\n",
      "3,59\n",
      "3,60\n",
      "3,61\n",
      "3,62\n",
      "3,63\n",
      "3,64\n",
      "3,65\n",
      "3,66\n",
      "3,67\n",
      "3,68\n",
      "3,69\n",
      "3,70\n",
      "3,71\n",
      "3,72\n",
      "3,73\n",
      "3,74\n",
      "3,75\n",
      "3,76\n",
      "3,77\n",
      "3,78\n",
      "3,79\n",
      "3,80\n",
      "3,81\n",
      "3,82\n",
      "3,83\n",
      "3,84\n",
      "3,85\n",
      "3,86\n",
      "3,87\n",
      "3,88\n",
      "3,89\n",
      "3,90\n",
      "3,91\n",
      "3,92\n",
      "3,93\n",
      "3,94\n",
      "3,95\n",
      "3,96\n",
      "3,97\n",
      "3,98\n",
      "3,99\n",
      "4,0\n",
      "4,1\n",
      "4,2\n",
      "4,3\n",
      "4,4\n",
      "4,5\n",
      "4,6\n",
      "4,7\n",
      "4,8\n",
      "4,9\n",
      "4,10\n",
      "4,11\n",
      "4,12\n",
      "4,13\n",
      "4,14\n",
      "4,15\n",
      "4,16\n",
      "4,17\n",
      "4,18\n",
      "4,19\n",
      "4,20\n",
      "4,21\n",
      "4,22\n",
      "4,23\n",
      "4,24\n",
      "4,25\n",
      "4,26\n",
      "4,27\n",
      "4,28\n",
      "4,29\n",
      "4,30\n",
      "4,31\n",
      "4,32\n",
      "4,33\n",
      "4,34\n",
      "4,35\n",
      "4,36\n",
      "4,37\n",
      "4,38\n",
      "4,39\n",
      "4,40\n",
      "4,41\n",
      "4,42\n",
      "4,43\n",
      "4,44\n",
      "4,45\n",
      "4,46\n",
      "4,47\n",
      "4,48\n",
      "4,49\n",
      "4,50\n",
      "4,51\n",
      "4,52\n",
      "4,53\n",
      "4,54\n",
      "4,55\n",
      "4,56\n",
      "4,57\n",
      "4,58\n",
      "4,59\n",
      "4,60\n",
      "4,61\n",
      "4,62\n",
      "4,63\n",
      "4,64\n",
      "4,65\n",
      "4,66\n",
      "4,67\n",
      "4,68\n",
      "4,69\n",
      "4,70\n",
      "4,71\n",
      "4,72\n",
      "4,73\n",
      "4,74\n",
      "4,75\n",
      "4,76\n",
      "4,77\n",
      "4,78\n",
      "4,79\n",
      "4,80\n",
      "4,81\n",
      "4,82\n",
      "4,83\n",
      "4,84\n",
      "4,85\n",
      "4,86\n",
      "4,87\n",
      "4,88\n",
      "4,89\n",
      "4,90\n",
      "4,91\n",
      "4,92\n",
      "4,93\n",
      "4,94\n",
      "4,95\n",
      "4,96\n",
      "4,97\n",
      "4,98\n",
      "4,99\n",
      "5,0\n",
      "5,1\n",
      "5,2\n",
      "5,3\n",
      "5,4\n",
      "5,5\n",
      "5,6\n",
      "5,7\n",
      "5,8\n",
      "5,9\n",
      "5,10\n",
      "5,11\n",
      "5,12\n",
      "5,13\n",
      "5,14\n",
      "5,15\n",
      "5,16\n",
      "5,17\n",
      "5,18\n",
      "5,19\n",
      "5,20\n",
      "5,21\n",
      "5,22\n",
      "5,23\n",
      "5,24\n",
      "5,25\n",
      "5,26\n",
      "5,27\n",
      "5,28\n",
      "5,29\n",
      "5,30\n",
      "5,31\n",
      "5,32\n",
      "5,33\n",
      "5,34\n",
      "5,35\n",
      "5,36\n",
      "5,37\n",
      "5,38\n",
      "5,39\n",
      "5,40\n",
      "5,41\n",
      "5,42\n",
      "5,43\n",
      "5,44\n",
      "5,45\n",
      "5,46\n",
      "5,47\n",
      "5,48\n",
      "5,49\n",
      "5,50\n",
      "5,51\n",
      "5,52\n",
      "5,53\n",
      "5,54\n",
      "5,55\n",
      "5,56\n",
      "5,57\n",
      "5,58\n",
      "5,59\n",
      "5,60\n",
      "5,61\n",
      "5,62\n",
      "5,63\n",
      "5,64\n",
      "5,65\n",
      "5,66\n",
      "5,67\n",
      "5,68\n",
      "5,69\n",
      "5,70\n",
      "5,71\n",
      "5,72\n",
      "5,73\n",
      "5,74\n",
      "5,75\n",
      "5,76\n",
      "5,77\n",
      "5,78\n",
      "5,79\n",
      "5,80\n",
      "5,81\n",
      "5,82\n",
      "5,83\n",
      "5,84\n",
      "5,85\n",
      "5,86\n",
      "5,87\n",
      "5,88\n",
      "5,89\n",
      "5,90\n",
      "5,91\n",
      "5,92\n",
      "5,93\n",
      "5,94\n",
      "5,95\n",
      "5,96\n",
      "5,97\n",
      "5,98\n",
      "5,99\n",
      "6,0\n",
      "6,1\n",
      "6,2\n",
      "6,3\n",
      "6,4\n",
      "6,5\n",
      "6,6\n",
      "6,7\n",
      "6,8\n",
      "6,9\n",
      "6,10\n",
      "6,11\n",
      "6,12\n",
      "6,13\n",
      "6,14\n",
      "6,15\n",
      "6,16\n",
      "6,17\n",
      "6,18\n",
      "6,19\n",
      "6,20\n",
      "6,21\n",
      "6,22\n",
      "6,23\n",
      "6,24\n",
      "6,25\n",
      "6,26\n",
      "6,27\n",
      "6,28\n",
      "6,29\n",
      "6,30\n",
      "6,31\n",
      "6,32\n",
      "6,33\n",
      "6,34\n",
      "6,35\n",
      "6,36\n",
      "6,37\n",
      "6,38\n",
      "6,39\n",
      "6,40\n",
      "6,41\n",
      "6,42\n",
      "6,43\n",
      "6,44\n",
      "6,45\n",
      "6,46\n",
      "6,47\n",
      "6,48\n",
      "6,49\n",
      "6,50\n",
      "6,51\n",
      "6,52\n",
      "6,53\n",
      "6,54\n",
      "6,55\n",
      "6,56\n",
      "6,57\n",
      "6,58\n",
      "6,59\n",
      "6,60\n",
      "6,61\n",
      "6,62\n",
      "6,63\n",
      "6,64\n",
      "6,65\n",
      "6,66\n",
      "6,67\n",
      "6,68\n",
      "6,69\n",
      "6,70\n",
      "6,71\n",
      "6,72\n",
      "6,73\n",
      "6,74\n",
      "6,75\n",
      "6,76\n",
      "6,77\n",
      "6,78\n",
      "6,79\n",
      "6,80\n",
      "6,81\n",
      "6,82\n",
      "6,83\n",
      "6,84\n",
      "6,85\n",
      "6,86\n",
      "6,87\n",
      "6,88\n",
      "6,89\n",
      "6,90\n",
      "6,91\n",
      "6,92\n",
      "6,93\n",
      "6,94\n",
      "6,95\n",
      "6,96\n",
      "6,97\n",
      "6,98\n",
      "6,99\n",
      "7,0\n",
      "7,1\n",
      "7,2\n",
      "7,3\n",
      "7,4\n",
      "7,5\n",
      "7,6\n",
      "7,7\n",
      "7,8\n",
      "7,9\n",
      "7,10\n",
      "7,11\n",
      "7,12\n",
      "7,13\n",
      "7,14\n",
      "7,15\n",
      "7,16\n",
      "7,17\n",
      "7,18\n",
      "7,19\n",
      "7,20\n",
      "7,21\n",
      "7,22\n",
      "7,23\n",
      "7,24\n",
      "7,25\n",
      "7,26\n",
      "7,27\n",
      "7,28\n",
      "7,29\n",
      "7,30\n",
      "7,31\n",
      "7,32\n",
      "7,33\n",
      "7,34\n",
      "7,35\n",
      "7,36\n",
      "7,37\n",
      "7,38\n",
      "7,39\n",
      "7,40\n",
      "7,41\n",
      "7,42\n",
      "7,43\n",
      "7,44\n",
      "7,45\n",
      "7,46\n",
      "7,47\n",
      "7,48\n",
      "7,49\n",
      "7,50\n",
      "7,51\n",
      "7,52\n",
      "7,53\n",
      "7,54\n",
      "7,55\n",
      "7,56\n",
      "7,57\n",
      "7,58\n",
      "7,59\n",
      "7,60\n",
      "7,61\n",
      "7,62\n",
      "7,63\n",
      "7,64\n",
      "7,65\n",
      "7,66\n",
      "7,67\n",
      "7,68\n",
      "7,69\n",
      "7,70\n",
      "7,71\n",
      "7,72\n",
      "7,73\n",
      "7,74\n",
      "7,75\n",
      "7,76\n",
      "7,77\n",
      "7,78\n",
      "7,79\n",
      "7,80\n",
      "7,81\n",
      "7,82\n",
      "7,83\n",
      "7,84\n",
      "7,85\n",
      "7,86\n",
      "7,87\n",
      "7,88\n",
      "7,89\n",
      "7,90\n",
      "7,91\n",
      "7,92\n",
      "7,93\n",
      "7,94\n",
      "7,95\n",
      "7,96\n",
      "7,97\n",
      "7,98\n",
      "7,99\n",
      "8,0\n",
      "8,1\n",
      "8,2\n",
      "8,3\n",
      "8,4\n",
      "8,5\n",
      "8,6\n",
      "8,7\n",
      "8,8\n",
      "8,9\n",
      "8,10\n",
      "8,11\n",
      "8,12\n",
      "8,13\n",
      "8,14\n",
      "8,15\n",
      "8,16\n",
      "8,17\n",
      "8,18\n",
      "8,19\n",
      "8,20\n",
      "8,21\n",
      "8,22\n",
      "8,23\n",
      "8,24\n",
      "8,25\n",
      "8,26\n",
      "8,27\n",
      "8,28\n",
      "8,29\n",
      "8,30\n",
      "8,31\n",
      "8,32\n",
      "8,33\n",
      "8,34\n",
      "8,35\n",
      "8,36\n",
      "8,37\n",
      "8,38\n",
      "8,39\n",
      "8,40\n",
      "8,41\n",
      "8,42\n",
      "8,43\n",
      "8,44\n",
      "8,45\n",
      "8,46\n",
      "8,47\n",
      "8,48\n",
      "8,49\n",
      "8,50\n",
      "8,51\n",
      "8,52\n",
      "8,53\n",
      "8,54\n",
      "8,55\n",
      "8,56\n",
      "8,57\n",
      "8,58\n",
      "8,59\n",
      "8,60\n",
      "8,61\n",
      "8,62\n",
      "8,63\n",
      "8,64\n",
      "8,65\n",
      "8,66\n",
      "8,67\n",
      "8,68\n",
      "8,69\n",
      "8,70\n",
      "8,71\n",
      "8,72\n",
      "8,73\n",
      "8,74\n",
      "8,75\n",
      "8,76\n",
      "8,77\n",
      "8,78\n",
      "8,79\n",
      "8,80\n",
      "8,81\n",
      "8,82\n",
      "8,83\n",
      "8,84\n",
      "8,85\n",
      "8,86\n",
      "8,87\n",
      "8,88\n",
      "8,89\n",
      "8,90\n",
      "8,91\n",
      "8,92\n",
      "8,93\n",
      "8,94\n",
      "8,95\n",
      "8,96\n",
      "8,97\n",
      "8,98\n",
      "8,99\n",
      "9,0\n",
      "9,1\n",
      "9,2\n",
      "9,3\n",
      "9,4\n",
      "9,5\n",
      "9,6\n",
      "9,7\n",
      "9,8\n",
      "9,9\n",
      "9,10\n",
      "9,11\n",
      "9,12\n",
      "9,13\n",
      "9,14\n",
      "9,15\n",
      "9,16\n",
      "9,17\n",
      "9,18\n",
      "9,19\n",
      "9,20\n",
      "9,21\n",
      "9,22\n",
      "9,23\n",
      "9,24\n",
      "9,25\n",
      "9,26\n",
      "9,27\n",
      "9,28\n",
      "9,29\n",
      "9,30\n",
      "9,31\n",
      "9,32\n",
      "9,33\n",
      "9,34\n",
      "9,35\n",
      "9,36\n",
      "9,37\n",
      "9,38\n",
      "9,39\n",
      "9,40\n",
      "9,41\n",
      "9,42\n",
      "9,43\n",
      "9,44\n",
      "9,45\n",
      "9,46\n",
      "9,47\n",
      "9,48\n",
      "9,49\n",
      "9,50\n",
      "9,51\n",
      "9,52\n",
      "9,53\n",
      "9,54\n",
      "9,55\n",
      "9,56\n",
      "9,57\n",
      "9,58\n",
      "9,59\n",
      "9,60\n",
      "9,61\n",
      "9,62\n",
      "9,63\n",
      "9,64\n",
      "9,65\n",
      "9,66\n",
      "9,67\n",
      "9,68\n",
      "9,69\n",
      "9,70\n",
      "9,71\n",
      "9,72\n",
      "9,73\n",
      "9,74\n",
      "9,75\n",
      "9,76\n",
      "9,77\n",
      "9,78\n",
      "9,79\n",
      "9,80\n",
      "9,81\n",
      "9,82\n",
      "9,83\n",
      "9,84\n",
      "9,85\n",
      "9,86\n",
      "9,87\n",
      "9,88\n",
      "9,89\n",
      "9,90\n",
      "9,91\n",
      "9,92\n",
      "9,93\n",
      "9,94\n",
      "9,95\n",
      "9,96\n",
      "9,97\n",
      "9,98\n",
      "9,99\n"
     ]
    }
   ],
   "source": [
    "for i in list_1: \n",
    "    for j in list_2: \n",
    "        print(str(i) + \",\" + str(j)) "
   ]
  },
  {
   "cell_type": "markdown",
   "metadata": {},
   "source": [
    "4. Use a while loop"
   ]
  },
  {
   "cell_type": "code",
   "execution_count": 7,
   "metadata": {},
   "outputs": [
    {
     "name": "stdout",
     "output_type": "stream",
     "text": [
      "0\n",
      "1\n",
      "2\n",
      "3\n",
      "4\n",
      "5\n",
      "6\n",
      "7\n",
      "8\n",
      "9\n"
     ]
    }
   ],
   "source": [
    "i = 0 \n",
    "while i < len(list_1) : \n",
    "    print(list_1[i])  \n",
    "    i += 1 "
   ]
  },
  {
   "cell_type": "markdown",
   "metadata": {},
   "source": [
    "5. Create list_3 with numbers that are divisible by 5"
   ]
  },
  {
   "cell_type": "code",
   "execution_count": 8,
   "metadata": {},
   "outputs": [
    {
     "data": {
      "text/plain": [
       "[0, 5, 10, 15, 20, 25, 30, 35, 40, 45, 50, 55, 60, 65, 70, 75, 80, 85, 90, 95]"
      ]
     },
     "execution_count": 8,
     "metadata": {},
     "output_type": "execute_result"
    }
   ],
   "source": [
    "list_3 = [x for x in range(0, 100) if x % 5 == 0] \n",
    "\n",
    "list_3 "
   ]
  },
  {
   "cell_type": "markdown",
   "metadata": {},
   "source": [
    "6. Generate a list by adding the two lists"
   ]
  },
  {
   "cell_type": "code",
   "execution_count": 75,
   "metadata": {},
   "outputs": [
    {
     "data": {
      "text/plain": [
       "[1, 4, 56, -1, 1, 39, 245, -23, 0, 45]"
      ]
     },
     "execution_count": 75,
     "metadata": {},
     "output_type": "execute_result"
    }
   ],
   "source": [
    "list_1 = [1, 4, 56, -1] \n",
    "list_2 = [1, 39, 245, -23, 0, 45] \n",
    "list_3 = list_1 + list_2 \n",
    "list_3 "
   ]
  },
  {
   "cell_type": "markdown",
   "metadata": {},
   "source": [
    "7. Extend a string using the extend keyword"
   ]
  },
  {
   "cell_type": "code",
   "execution_count": 11,
   "metadata": {},
   "outputs": [
    {
     "data": {
      "text/plain": [
       "[1, 4, 56, -1, 1, 39, 245, -23, 0, 45]"
      ]
     },
     "execution_count": 11,
     "metadata": {},
     "output_type": "execute_result"
    }
   ],
   "source": [
    "list_1.extend(list_2) \n",
    "list_1 "
   ]
  },
  {
   "cell_type": "markdown",
   "metadata": {},
   "source": [
    "## Exercise 3: Iterating over a List and Checking Membership "
   ]
  },
  {
   "cell_type": "markdown",
   "metadata": {},
   "source": [
    "1. Iterate over a list"
   ]
  },
  {
   "cell_type": "code",
   "execution_count": 14,
   "metadata": {},
   "outputs": [
    {
     "name": "stdout",
     "output_type": "stream",
     "text": [
      "0\n",
      "1\n",
      "2\n",
      "3\n",
      "4\n",
      "5\n",
      "6\n",
      "7\n",
      "8\n",
      "9\n",
      "10\n",
      "11\n",
      "12\n",
      "13\n",
      "14\n",
      "15\n",
      "16\n",
      "17\n",
      "18\n",
      "19\n",
      "20\n",
      "21\n",
      "22\n",
      "23\n",
      "24\n",
      "25\n",
      "26\n",
      "27\n",
      "28\n",
      "29\n",
      "30\n",
      "31\n",
      "32\n",
      "33\n",
      "34\n",
      "35\n",
      "36\n",
      "37\n",
      "38\n",
      "39\n",
      "40\n",
      "41\n",
      "42\n",
      "43\n",
      "44\n",
      "45\n",
      "46\n",
      "47\n",
      "48\n",
      "49\n",
      "50\n",
      "51\n",
      "52\n",
      "53\n",
      "54\n",
      "55\n",
      "56\n",
      "57\n",
      "58\n",
      "59\n",
      "60\n",
      "61\n",
      "62\n",
      "63\n",
      "64\n",
      "65\n",
      "66\n",
      "67\n",
      "68\n",
      "69\n",
      "70\n",
      "71\n",
      "72\n",
      "73\n",
      "74\n",
      "75\n",
      "76\n",
      "77\n",
      "78\n",
      "79\n",
      "80\n",
      "81\n",
      "82\n",
      "83\n",
      "84\n",
      "85\n",
      "86\n",
      "87\n",
      "88\n",
      "89\n",
      "90\n",
      "91\n",
      "92\n",
      "93\n",
      "94\n",
      "95\n",
      "96\n",
      "97\n",
      "98\n",
      "99\n"
     ]
    }
   ],
   "source": [
    "list_1 = [x for x in range(0, 100)] \n",
    "for i in range(0, len(list_1)): \n",
    "    print(list_1[i]) "
   ]
  },
  {
   "cell_type": "code",
   "execution_count": 15,
   "metadata": {},
   "outputs": [
    {
     "name": "stdout",
     "output_type": "stream",
     "text": [
      "0\n",
      "1\n",
      "2\n",
      "3\n",
      "4\n",
      "5\n",
      "6\n",
      "7\n",
      "8\n",
      "9\n",
      "10\n",
      "11\n",
      "12\n",
      "13\n",
      "14\n",
      "15\n",
      "16\n",
      "17\n",
      "18\n",
      "19\n",
      "20\n",
      "21\n",
      "22\n",
      "23\n",
      "24\n",
      "25\n",
      "26\n",
      "27\n",
      "28\n",
      "29\n",
      "30\n",
      "31\n",
      "32\n",
      "33\n",
      "34\n",
      "35\n",
      "36\n",
      "37\n",
      "38\n",
      "39\n",
      "40\n",
      "41\n",
      "42\n",
      "43\n",
      "44\n",
      "45\n",
      "46\n",
      "47\n",
      "48\n",
      "49\n",
      "50\n",
      "51\n",
      "52\n",
      "53\n",
      "54\n",
      "55\n",
      "56\n",
      "57\n",
      "58\n",
      "59\n",
      "60\n",
      "61\n",
      "62\n",
      "63\n",
      "64\n",
      "65\n",
      "66\n",
      "67\n",
      "68\n",
      "69\n",
      "70\n",
      "71\n",
      "72\n",
      "73\n",
      "74\n",
      "75\n",
      "76\n",
      "77\n",
      "78\n",
      "79\n",
      "80\n",
      "81\n",
      "82\n",
      "83\n",
      "84\n",
      "85\n",
      "86\n",
      "87\n",
      "88\n",
      "89\n",
      "90\n",
      "91\n",
      "92\n",
      "93\n",
      "94\n",
      "95\n",
      "96\n",
      "97\n",
      "98\n",
      "99\n"
     ]
    }
   ],
   "source": [
    "for i in list_1: \n",
    "    print(i)"
   ]
  },
  {
   "cell_type": "markdown",
   "metadata": {},
   "source": [
    "2. Check whether the integers 25 and -45 are in the list using the in operator"
   ]
  },
  {
   "cell_type": "code",
   "execution_count": 16,
   "metadata": {},
   "outputs": [
    {
     "data": {
      "text/plain": [
       "True"
      ]
     },
     "execution_count": 16,
     "metadata": {},
     "output_type": "execute_result"
    }
   ],
   "source": [
    " 25 in list_1 "
   ]
  },
  {
   "cell_type": "code",
   "execution_count": 17,
   "metadata": {},
   "outputs": [
    {
     "data": {
      "text/plain": [
       "False"
      ]
     },
     "execution_count": 17,
     "metadata": {},
     "output_type": "execute_result"
    }
   ],
   "source": [
    " -45 in list_1 "
   ]
  },
  {
   "cell_type": "markdown",
   "metadata": {},
   "source": [
    "## Exercise 4: Sorting a List "
   ]
  },
  {
   "cell_type": "markdown",
   "metadata": {},
   "source": [
    "1. As the list was originally a list of numbers from 0 to 99, we will sort it in the reverse direction. To do that, we will use the sort method with reverse=True"
   ]
  },
  {
   "cell_type": "code",
   "execution_count": 19,
   "metadata": {},
   "outputs": [
    {
     "data": {
      "text/plain": [
       "[99,\n",
       " 98,\n",
       " 97,\n",
       " 96,\n",
       " 95,\n",
       " 94,\n",
       " 93,\n",
       " 92,\n",
       " 91,\n",
       " 90,\n",
       " 89,\n",
       " 88,\n",
       " 87,\n",
       " 86,\n",
       " 85,\n",
       " 84,\n",
       " 83,\n",
       " 82,\n",
       " 81,\n",
       " 80,\n",
       " 79,\n",
       " 78,\n",
       " 77,\n",
       " 76,\n",
       " 75,\n",
       " 74,\n",
       " 73,\n",
       " 72,\n",
       " 71,\n",
       " 70,\n",
       " 69,\n",
       " 68,\n",
       " 67,\n",
       " 66,\n",
       " 65,\n",
       " 64,\n",
       " 63,\n",
       " 62,\n",
       " 61,\n",
       " 60,\n",
       " 59,\n",
       " 58,\n",
       " 57,\n",
       " 56,\n",
       " 55,\n",
       " 54,\n",
       " 53,\n",
       " 52,\n",
       " 51,\n",
       " 50,\n",
       " 49,\n",
       " 48,\n",
       " 47,\n",
       " 46,\n",
       " 45,\n",
       " 44,\n",
       " 43,\n",
       " 42,\n",
       " 41,\n",
       " 40,\n",
       " 39,\n",
       " 38,\n",
       " 37,\n",
       " 36,\n",
       " 35,\n",
       " 34,\n",
       " 33,\n",
       " 32,\n",
       " 31,\n",
       " 30,\n",
       " 29,\n",
       " 28,\n",
       " 27,\n",
       " 26,\n",
       " 25,\n",
       " 24,\n",
       " 23,\n",
       " 22,\n",
       " 21,\n",
       " 20,\n",
       " 19,\n",
       " 18,\n",
       " 17,\n",
       " 16,\n",
       " 15,\n",
       " 14,\n",
       " 13,\n",
       " 12,\n",
       " 11,\n",
       " 10,\n",
       " 9,\n",
       " 8,\n",
       " 7,\n",
       " 6,\n",
       " 5,\n",
       " 4,\n",
       " 3,\n",
       " 2,\n",
       " 1,\n",
       " 0]"
      ]
     },
     "execution_count": 19,
     "metadata": {},
     "output_type": "execute_result"
    }
   ],
   "source": [
    "list_1.sort(reverse=True) \n",
    "\n",
    "list_1 "
   ]
  },
  {
   "cell_type": "markdown",
   "metadata": {},
   "source": [
    "2. We can use the reverse method directly"
   ]
  },
  {
   "cell_type": "code",
   "execution_count": 20,
   "metadata": {},
   "outputs": [
    {
     "data": {
      "text/plain": [
       "[0,\n",
       " 1,\n",
       " 2,\n",
       " 3,\n",
       " 4,\n",
       " 5,\n",
       " 6,\n",
       " 7,\n",
       " 8,\n",
       " 9,\n",
       " 10,\n",
       " 11,\n",
       " 12,\n",
       " 13,\n",
       " 14,\n",
       " 15,\n",
       " 16,\n",
       " 17,\n",
       " 18,\n",
       " 19,\n",
       " 20,\n",
       " 21,\n",
       " 22,\n",
       " 23,\n",
       " 24,\n",
       " 25,\n",
       " 26,\n",
       " 27,\n",
       " 28,\n",
       " 29,\n",
       " 30,\n",
       " 31,\n",
       " 32,\n",
       " 33,\n",
       " 34,\n",
       " 35,\n",
       " 36,\n",
       " 37,\n",
       " 38,\n",
       " 39,\n",
       " 40,\n",
       " 41,\n",
       " 42,\n",
       " 43,\n",
       " 44,\n",
       " 45,\n",
       " 46,\n",
       " 47,\n",
       " 48,\n",
       " 49,\n",
       " 50,\n",
       " 51,\n",
       " 52,\n",
       " 53,\n",
       " 54,\n",
       " 55,\n",
       " 56,\n",
       " 57,\n",
       " 58,\n",
       " 59,\n",
       " 60,\n",
       " 61,\n",
       " 62,\n",
       " 63,\n",
       " 64,\n",
       " 65,\n",
       " 66,\n",
       " 67,\n",
       " 68,\n",
       " 69,\n",
       " 70,\n",
       " 71,\n",
       " 72,\n",
       " 73,\n",
       " 74,\n",
       " 75,\n",
       " 76,\n",
       " 77,\n",
       " 78,\n",
       " 79,\n",
       " 80,\n",
       " 81,\n",
       " 82,\n",
       " 83,\n",
       " 84,\n",
       " 85,\n",
       " 86,\n",
       " 87,\n",
       " 88,\n",
       " 89,\n",
       " 90,\n",
       " 91,\n",
       " 92,\n",
       " 93,\n",
       " 94,\n",
       " 95,\n",
       " 96,\n",
       " 97,\n",
       " 98,\n",
       " 99]"
      ]
     },
     "execution_count": 20,
     "metadata": {},
     "output_type": "execute_result"
    }
   ],
   "source": [
    "list_1.reverse() \n",
    "\n",
    "list_1 "
   ]
  },
  {
   "cell_type": "markdown",
   "metadata": {},
   "source": [
    "## Exercise 5: Generating a Random List "
   ]
  },
  {
   "cell_type": "markdown",
   "metadata": {},
   "source": [
    "1. Import random library"
   ]
  },
  {
   "cell_type": "code",
   "execution_count": 22,
   "metadata": {},
   "outputs": [],
   "source": [
    "import random "
   ]
  },
  {
   "cell_type": "markdown",
   "metadata": {},
   "source": [
    "2. Use the randint function to generate random integers and add them to a list"
   ]
  },
  {
   "cell_type": "code",
   "execution_count": 27,
   "metadata": {},
   "outputs": [
    {
     "data": {
      "text/plain": [
       "[9,\n",
       " 13,\n",
       " 24,\n",
       " 24,\n",
       " 7,\n",
       " 6,\n",
       " 8,\n",
       " 14,\n",
       " 22,\n",
       " 24,\n",
       " 28,\n",
       " 7,\n",
       " 0,\n",
       " 16,\n",
       " 22,\n",
       " 9,\n",
       " 22,\n",
       " 17,\n",
       " 20,\n",
       " 0,\n",
       " 19,\n",
       " 27,\n",
       " 6,\n",
       " 20,\n",
       " 13,\n",
       " 21,\n",
       " 30,\n",
       " 9,\n",
       " 3,\n",
       " 10,\n",
       " 8,\n",
       " 11,\n",
       " 11,\n",
       " 5,\n",
       " 23,\n",
       " 3,\n",
       " 3,\n",
       " 21,\n",
       " 9,\n",
       " 25,\n",
       " 12,\n",
       " 20,\n",
       " 0,\n",
       " 5,\n",
       " 3,\n",
       " 8,\n",
       " 16,\n",
       " 22,\n",
       " 26,\n",
       " 25,\n",
       " 5,\n",
       " 15,\n",
       " 30,\n",
       " 12,\n",
       " 1,\n",
       " 22,\n",
       " 7,\n",
       " 17,\n",
       " 4,\n",
       " 25,\n",
       " 20,\n",
       " 5,\n",
       " 15,\n",
       " 26,\n",
       " 0,\n",
       " 12,\n",
       " 14,\n",
       " 11,\n",
       " 20,\n",
       " 18,\n",
       " 26,\n",
       " 25,\n",
       " 3,\n",
       " 27,\n",
       " 4,\n",
       " 4,\n",
       " 12,\n",
       " 16,\n",
       " 0,\n",
       " 6,\n",
       " 0,\n",
       " 10,\n",
       " 17,\n",
       " 30,\n",
       " 16,\n",
       " 11,\n",
       " 7,\n",
       " 9,\n",
       " 30,\n",
       " 9,\n",
       " 13,\n",
       " 13,\n",
       " 14,\n",
       " 5,\n",
       " 19,\n",
       " 25,\n",
       " 25,\n",
       " 27,\n",
       " 25,\n",
       " 9]"
      ]
     },
     "execution_count": 27,
     "metadata": {},
     "output_type": "execute_result"
    }
   ],
   "source": [
    "list_1 = [random.randint(0, 30) for x in range (0, 100)] \n",
    "list_1 "
   ]
  },
  {
   "cell_type": "markdown",
   "metadata": {},
   "source": [
    "## Exercise 6: Accessing and Setting Values in a Dictionary "
   ]
  },
  {
   "cell_type": "markdown",
   "metadata": {},
   "source": [
    "1."
   ]
  },
  {
   "cell_type": "code",
   "execution_count": 30,
   "metadata": {},
   "outputs": [
    {
     "data": {
      "text/plain": [
       "{'key1': 1,\n",
       " 'key2': ['list_element1', 34],\n",
       " 'key3': 'value3',\n",
       " 'key4': {'subkey1': 'v1'},\n",
       " 'key5': 4.5}"
      ]
     },
     "execution_count": 30,
     "metadata": {},
     "output_type": "execute_result"
    }
   ],
   "source": [
    "dict_2 = {\"key1\": 1, \"key2\": [\"list_element1\", 34], \"key3\": \"value3\", \n",
    "\n",
    "          \"key4\": {\"subkey1\": \"v1\"}, \"key5\": 4.5} \n",
    "dict_2"
   ]
  },
  {
   "cell_type": "markdown",
   "metadata": {},
   "source": [
    "2. Print the key and value related to key2 "
   ]
  },
  {
   "cell_type": "code",
   "execution_count": 32,
   "metadata": {},
   "outputs": [
    {
     "data": {
      "text/plain": [
       "['list_element1', 34]"
      ]
     },
     "execution_count": 32,
     "metadata": {},
     "output_type": "execute_result"
    }
   ],
   "source": [
    "dict_2[\"key2\"] "
   ]
  },
  {
   "cell_type": "markdown",
   "metadata": {},
   "source": [
    "3. You can set a value using the same method we use to access a value"
   ]
  },
  {
   "cell_type": "code",
   "execution_count": 34,
   "metadata": {},
   "outputs": [
    {
     "data": {
      "text/plain": [
       "'My new value'"
      ]
     },
     "execution_count": 34,
     "metadata": {},
     "output_type": "execute_result"
    }
   ],
   "source": [
    "dict_2[\"key2\"] = \"My new value\"\n",
    "dict_2[\"key2\"]"
   ]
  },
  {
   "cell_type": "markdown",
   "metadata": {},
   "source": [
    "4. Define a blank dictionary and then use the key notation to assign values to it"
   ]
  },
  {
   "cell_type": "code",
   "execution_count": 35,
   "metadata": {},
   "outputs": [
    {
     "data": {
      "text/plain": [
       "{'key1': 'Value1'}"
      ]
     },
     "execution_count": 35,
     "metadata": {},
     "output_type": "execute_result"
    }
   ],
   "source": [
    "dict_3 = {} # Not a null set. It is a dict \n",
    "\n",
    "dict_3[\"key1\"] = \"Value1\" \n",
    "\n",
    "dict_3 "
   ]
  },
  {
   "cell_type": "markdown",
   "metadata": {},
   "source": [
    "## Exercise 7: Iterating Over a Dictionary "
   ]
  },
  {
   "cell_type": "markdown",
   "metadata": {},
   "source": [
    "1. Create dict_1"
   ]
  },
  {
   "cell_type": "code",
   "execution_count": 2,
   "metadata": {},
   "outputs": [
    {
     "data": {
      "text/plain": [
       "{'key1': 1,\n",
       " 'key2': ['list_element1', 34],\n",
       " 'key3': 'value3',\n",
       " 'key4': {'subkey1': 'v1'},\n",
       " 'key5': 4.5}"
      ]
     },
     "execution_count": 2,
     "metadata": {},
     "output_type": "execute_result"
    }
   ],
   "source": [
    "dict_1 = {\"key1\": 1, \"key2\": [\"list_element1\", 34], \"key3\": \"value3\", \"key4\": {\"subkey1\": \"v1\"}, \"key5\": 4.5}\n",
    "dict_1"
   ]
  },
  {
   "cell_type": "markdown",
   "metadata": {},
   "source": [
    "2. When we iterate through the dictionary, we are actually iterating over the keys and values"
   ]
  },
  {
   "cell_type": "code",
   "execution_count": 38,
   "metadata": {},
   "outputs": [
    {
     "name": "stdout",
     "output_type": "stream",
     "text": [
      "key1 - 1\n",
      "key2 - ['list_element1', 34]\n",
      "key3 - value3\n",
      "key4 - {'subkey1': 'v1'}\n",
      "key5 - 4.5\n"
     ]
    }
   ],
   "source": [
    "for k, v in dict_1.items(): \n",
    "    print(\"{} - {}\".format(k, v)) "
   ]
  },
  {
   "cell_type": "markdown",
   "metadata": {},
   "source": [
    "## Exercise 8: Revisiting the Unique Valued List Problem "
   ]
  },
  {
   "cell_type": "markdown",
   "metadata": {},
   "source": [
    "1. generate a random list with duplicate values"
   ]
  },
  {
   "cell_type": "code",
   "execution_count": 40,
   "metadata": {},
   "outputs": [
    {
     "data": {
      "text/plain": [
       "[12,\n",
       " 20,\n",
       " 5,\n",
       " 1,\n",
       " 12,\n",
       " 4,\n",
       " 26,\n",
       " 29,\n",
       " 27,\n",
       " 0,\n",
       " 7,\n",
       " 14,\n",
       " 19,\n",
       " 27,\n",
       " 15,\n",
       " 10,\n",
       " 28,\n",
       " 11,\n",
       " 0,\n",
       " 2,\n",
       " 22,\n",
       " 17,\n",
       " 23,\n",
       " 7,\n",
       " 17,\n",
       " 2,\n",
       " 26,\n",
       " 17,\n",
       " 5,\n",
       " 7,\n",
       " 6,\n",
       " 30,\n",
       " 18,\n",
       " 2,\n",
       " 17,\n",
       " 8,\n",
       " 0,\n",
       " 17,\n",
       " 4,\n",
       " 22,\n",
       " 23,\n",
       " 23,\n",
       " 14,\n",
       " 24,\n",
       " 18,\n",
       " 1,\n",
       " 12,\n",
       " 14,\n",
       " 2,\n",
       " 3,\n",
       " 30,\n",
       " 24,\n",
       " 29,\n",
       " 10,\n",
       " 1,\n",
       " 12,\n",
       " 25,\n",
       " 12,\n",
       " 29,\n",
       " 11,\n",
       " 11,\n",
       " 16,\n",
       " 13,\n",
       " 16,\n",
       " 9,\n",
       " 17,\n",
       " 22,\n",
       " 0,\n",
       " 15,\n",
       " 16,\n",
       " 22,\n",
       " 6,\n",
       " 23,\n",
       " 21,\n",
       " 9,\n",
       " 27,\n",
       " 25,\n",
       " 22,\n",
       " 8,\n",
       " 28,\n",
       " 9,\n",
       " 18,\n",
       " 12,\n",
       " 21,\n",
       " 13,\n",
       " 15,\n",
       " 3,\n",
       " 16,\n",
       " 27,\n",
       " 14,\n",
       " 5,\n",
       " 16,\n",
       " 29,\n",
       " 30,\n",
       " 20,\n",
       " 29,\n",
       " 7,\n",
       " 2,\n",
       " 28,\n",
       " 22]"
      ]
     },
     "execution_count": 40,
     "metadata": {},
     "output_type": "execute_result"
    }
   ],
   "source": [
    "list_1 = [random.randint(0, 30) for x in range (0, 100)] \n",
    "list_1"
   ]
  },
  {
   "cell_type": "markdown",
   "metadata": {},
   "source": [
    "2. Create a unique valued list from list_1"
   ]
  },
  {
   "cell_type": "code",
   "execution_count": 41,
   "metadata": {},
   "outputs": [
    {
     "data": {
      "text/plain": [
       "[12,\n",
       " 20,\n",
       " 5,\n",
       " 1,\n",
       " 4,\n",
       " 26,\n",
       " 29,\n",
       " 27,\n",
       " 0,\n",
       " 7,\n",
       " 14,\n",
       " 19,\n",
       " 15,\n",
       " 10,\n",
       " 28,\n",
       " 11,\n",
       " 2,\n",
       " 22,\n",
       " 17,\n",
       " 23,\n",
       " 6,\n",
       " 30,\n",
       " 18,\n",
       " 8,\n",
       " 24,\n",
       " 3,\n",
       " 25,\n",
       " 16,\n",
       " 13,\n",
       " 9,\n",
       " 21]"
      ]
     },
     "execution_count": 41,
     "metadata": {},
     "output_type": "execute_result"
    }
   ],
   "source": [
    "list(dict.fromkeys(list_1).keys()) "
   ]
  },
  {
   "cell_type": "markdown",
   "metadata": {},
   "source": [
    "## Exercise 9: Deleting Value from Dict "
   ]
  },
  {
   "cell_type": "markdown",
   "metadata": {},
   "source": [
    "1. Create list_1 with five elements"
   ]
  },
  {
   "cell_type": "code",
   "execution_count": 47,
   "metadata": {},
   "outputs": [
    {
     "data": {
      "text/plain": [
       "{'key1': 1,\n",
       " 'key2': ['list_element1', 34],\n",
       " 'key3': 'value3',\n",
       " 'key4': {'subkey1': 'v1'},\n",
       " 'key5': 4.5}"
      ]
     },
     "execution_count": 47,
     "metadata": {},
     "output_type": "execute_result"
    }
   ],
   "source": [
    "dict_1 = {\"key1\": 1, \"key2\": [\"list_element1\", 34], \"key3\": \"value3\", \n",
    "\n",
    "          \"key4\": {\"subkey1\": \"v1\"}, \"key5\": 4.5} \n",
    "dict_1 "
   ]
  },
  {
   "cell_type": "code",
   "execution_count": 48,
   "metadata": {},
   "outputs": [
    {
     "data": {
      "text/plain": [
       "{'key1': 1, 'key3': 'value3', 'key4': {'subkey1': 'v1'}, 'key5': 4.5}"
      ]
     },
     "execution_count": 48,
     "metadata": {},
     "output_type": "execute_result"
    }
   ],
   "source": [
    "del dict_1[\"key2\"] \n",
    "dict_1"
   ]
  },
  {
   "cell_type": "markdown",
   "metadata": {},
   "source": [
    "## Exercise 10: Dictionary Comprehension "
   ]
  },
  {
   "cell_type": "markdown",
   "metadata": {},
   "source": [
    "1. Generate a dict that has 0 to 9 as the keys and the square of the key as the values"
   ]
  },
  {
   "cell_type": "code",
   "execution_count": 50,
   "metadata": {},
   "outputs": [
    {
     "data": {
      "text/plain": [
       "{0: 0, 1: 1, 2: 4, 3: 9, 4: 16, 5: 25, 6: 36, 7: 49, 8: 64, 9: 81}"
      ]
     },
     "execution_count": 50,
     "metadata": {},
     "output_type": "execute_result"
    }
   ],
   "source": [
    "list_1 = [x for x in range(0, 10)] \n",
    "\n",
    "dict_1 = {x : x**2 for x in list_1} \n",
    "\n",
    "dict_1 "
   ]
  },
  {
   "cell_type": "markdown",
   "metadata": {},
   "source": [
    "2. Generate a dictionary using the dict function"
   ]
  },
  {
   "cell_type": "code",
   "execution_count": 51,
   "metadata": {},
   "outputs": [
    {
     "data": {
      "text/plain": [
       "{'Tom': 100, 'Dick': 200, 'Harry': 300}"
      ]
     },
     "execution_count": 51,
     "metadata": {},
     "output_type": "execute_result"
    }
   ],
   "source": [
    "dict_2 = dict([('Tom', 100), ('Dick', 200), ('Harry', 300)]) \n",
    "\n",
    "dict_2 "
   ]
  },
  {
   "cell_type": "code",
   "execution_count": 52,
   "metadata": {},
   "outputs": [
    {
     "data": {
      "text/plain": [
       "{'Tom': 100, 'Dick': 200, 'Harry': 300}"
      ]
     },
     "execution_count": 52,
     "metadata": {},
     "output_type": "execute_result"
    }
   ],
   "source": [
    "dict_3 = dict(Tom=100, Dick=200, Harry=300) \n",
    "\n",
    "dict_3 "
   ]
  },
  {
   "cell_type": "markdown",
   "metadata": {},
   "source": [
    "## Exercise 11: Handling Tuples "
   ]
  },
  {
   "cell_type": "markdown",
   "metadata": {},
   "source": [
    "1. Create a tuple"
   ]
  },
  {
   "cell_type": "code",
   "execution_count": 57,
   "metadata": {},
   "outputs": [
    {
     "data": {
      "text/plain": [
       "('1', '3', '5')"
      ]
     },
     "execution_count": 57,
     "metadata": {},
     "output_type": "execute_result"
    }
   ],
   "source": [
    "tupleE = \"1\", \"3\", \"5\" \n",
    "\n",
    "tupleE "
   ]
  },
  {
   "cell_type": "markdown",
   "metadata": {},
   "source": [
    "2. Try to override a variable from the tupleE tuple"
   ]
  },
  {
   "cell_type": "code",
   "execution_count": 58,
   "metadata": {},
   "outputs": [
    {
     "ename": "TypeError",
     "evalue": "'tuple' object does not support item assignment",
     "output_type": "error",
     "traceback": [
      "\u001b[0;31m---------------------------------------------------------------------------\u001b[0m",
      "\u001b[0;31mTypeError\u001b[0m                                 Traceback (most recent call last)",
      "\u001b[0;32m<ipython-input-58-b4cba6d5ed11>\u001b[0m in \u001b[0;36m<module>\u001b[0;34m\u001b[0m\n\u001b[0;32m----> 1\u001b[0;31m \u001b[0mtupleE\u001b[0m\u001b[0;34m[\u001b[0m\u001b[0;36m1\u001b[0m\u001b[0;34m]\u001b[0m \u001b[0;34m=\u001b[0m \u001b[0;34m\"5\"\u001b[0m\u001b[0;34m\u001b[0m\u001b[0;34m\u001b[0m\u001b[0m\n\u001b[0m",
      "\u001b[0;31mTypeError\u001b[0m: 'tuple' object does not support item assignment"
     ]
    }
   ],
   "source": [
    "tupleE[1] = \"5\" "
   ]
  },
  {
   "cell_type": "markdown",
   "metadata": {},
   "source": [
    "3. Try to assign a series to the tupleE tuple"
   ]
  },
  {
   "cell_type": "code",
   "execution_count": 59,
   "metadata": {},
   "outputs": [
    {
     "ename": "SyntaxError",
     "evalue": "can't assign to literal (<ipython-input-59-a5283cb38d62>, line 1)",
     "output_type": "error",
     "traceback": [
      "\u001b[0;36m  File \u001b[0;32m\"<ipython-input-59-a5283cb38d62>\"\u001b[0;36m, line \u001b[0;32m1\u001b[0m\n\u001b[0;31m    1, 3, 5 = tupleE\u001b[0m\n\u001b[0m                     ^\u001b[0m\n\u001b[0;31mSyntaxError\u001b[0m\u001b[0;31m:\u001b[0m can't assign to literal\n"
     ]
    }
   ],
   "source": [
    "1, 3, 5 = tupleE "
   ]
  },
  {
   "cell_type": "markdown",
   "metadata": {},
   "source": [
    "4. print variable 1 & 2"
   ]
  },
  {
   "cell_type": "code",
   "execution_count": 60,
   "metadata": {},
   "outputs": [
    {
     "name": "stdout",
     "output_type": "stream",
     "text": [
      "1\n",
      "3\n"
     ]
    }
   ],
   "source": [
    "print(1) \n",
    "\n",
    "print(3) "
   ]
  },
  {
   "cell_type": "markdown",
   "metadata": {},
   "source": [
    "## Exercise 12: Accessing Strings "
   ]
  },
  {
   "cell_type": "markdown",
   "metadata": {},
   "source": [
    "1. Create a string called str_1"
   ]
  },
  {
   "cell_type": "code",
   "execution_count": 62,
   "metadata": {},
   "outputs": [
    {
     "data": {
      "text/plain": [
       "'Hello World!'"
      ]
     },
     "execution_count": 62,
     "metadata": {},
     "output_type": "execute_result"
    }
   ],
   "source": [
    "str_1 = \"Hello World!\" \n",
    "str_1"
   ]
  },
  {
   "cell_type": "markdown",
   "metadata": {},
   "source": [
    "2. Access the first member of the string"
   ]
  },
  {
   "cell_type": "code",
   "execution_count": 63,
   "metadata": {},
   "outputs": [
    {
     "data": {
      "text/plain": [
       "'H'"
      ]
     },
     "execution_count": 63,
     "metadata": {},
     "output_type": "execute_result"
    }
   ],
   "source": [
    "str_1[0] "
   ]
  },
  {
   "cell_type": "markdown",
   "metadata": {},
   "source": [
    "3. Access the fourth member of the string"
   ]
  },
  {
   "cell_type": "code",
   "execution_count": 64,
   "metadata": {},
   "outputs": [
    {
     "data": {
      "text/plain": [
       "'o'"
      ]
     },
     "execution_count": 64,
     "metadata": {},
     "output_type": "execute_result"
    }
   ],
   "source": [
    "str_1[4] "
   ]
  },
  {
   "cell_type": "markdown",
   "metadata": {},
   "source": [
    "4. Access the last member of the string"
   ]
  },
  {
   "cell_type": "code",
   "execution_count": 65,
   "metadata": {},
   "outputs": [
    {
     "data": {
      "text/plain": [
       "'!'"
      ]
     },
     "execution_count": 65,
     "metadata": {},
     "output_type": "execute_result"
    }
   ],
   "source": [
    "str_1[len(str_1) - 1] "
   ]
  },
  {
   "cell_type": "markdown",
   "metadata": {},
   "source": [
    "5. Access the last member of the string"
   ]
  },
  {
   "cell_type": "code",
   "execution_count": 66,
   "metadata": {},
   "outputs": [
    {
     "data": {
      "text/plain": [
       "'!'"
      ]
     },
     "execution_count": 66,
     "metadata": {},
     "output_type": "execute_result"
    }
   ],
   "source": [
    "str_1[-1] "
   ]
  },
  {
   "cell_type": "markdown",
   "metadata": {},
   "source": [
    "## Exercise 13: String Slices "
   ]
  },
  {
   "cell_type": "markdown",
   "metadata": {},
   "source": [
    "1. Create a string, str_1"
   ]
  },
  {
   "cell_type": "code",
   "execution_count": 71,
   "metadata": {},
   "outputs": [
    {
     "data": {
      "text/plain": [
       "'Hello World! I am learning data wrangling'"
      ]
     },
     "execution_count": 71,
     "metadata": {},
     "output_type": "execute_result"
    }
   ],
   "source": [
    "str_1 = \"Hello World! I am learning data wrangling\" \n",
    "str_1"
   ]
  },
  {
   "cell_type": "markdown",
   "metadata": {},
   "source": [
    "2. Specify the slicing values and slice the string"
   ]
  },
  {
   "cell_type": "code",
   "execution_count": 72,
   "metadata": {},
   "outputs": [
    {
     "data": {
      "text/plain": [
       "'llo Worl'"
      ]
     },
     "execution_count": 72,
     "metadata": {},
     "output_type": "execute_result"
    }
   ],
   "source": [
    "str_1[2:10] "
   ]
  },
  {
   "cell_type": "markdown",
   "metadata": {},
   "source": [
    "3. Slice a string by skipping a slice value"
   ]
  },
  {
   "cell_type": "code",
   "execution_count": 73,
   "metadata": {},
   "outputs": [
    {
     "data": {
      "text/plain": [
       "'d! I am learning data wrangling'"
      ]
     },
     "execution_count": 73,
     "metadata": {},
     "output_type": "execute_result"
    }
   ],
   "source": [
    "str_1[-31:] "
   ]
  },
  {
   "cell_type": "markdown",
   "metadata": {},
   "source": [
    "4. Use negative numbers to slice the string"
   ]
  },
  {
   "cell_type": "code",
   "execution_count": 74,
   "metadata": {},
   "outputs": [
    {
     "data": {
      "text/plain": [
       "' wran'"
      ]
     },
     "execution_count": 74,
     "metadata": {},
     "output_type": "execute_result"
    }
   ],
   "source": [
    "str_1[-10:-5] "
   ]
  },
  {
   "cell_type": "markdown",
   "metadata": {},
   "source": [
    "## Exercise 14: Splitting and Joining a string "
   ]
  },
  {
   "cell_type": "markdown",
   "metadata": {},
   "source": [
    "1. Create a string and convert it to a list"
   ]
  },
  {
   "cell_type": "code",
   "execution_count": 32,
   "metadata": {},
   "outputs": [
    {
     "data": {
      "text/plain": [
       "['Name', ' Age', ' Sex', ' Address']"
      ]
     },
     "execution_count": 32,
     "metadata": {},
     "output_type": "execute_result"
    }
   ],
   "source": [
    "str_1 = \"Name, Age, Sex, Address\" \n",
    "\n",
    "list_1 = str_1.split(\",\") \n",
    "\n",
    "list_1 "
   ]
  },
  {
   "cell_type": "code",
   "execution_count": 34,
   "metadata": {},
   "outputs": [
    {
     "data": {
      "text/plain": [
       "'Name |  Age |  Sex |  Address'"
      ]
     },
     "execution_count": 34,
     "metadata": {},
     "output_type": "execute_result"
    }
   ],
   "source": [
    "s = \" | \"\n",
    "s.join(list_1)"
   ]
  }
 ],
 "metadata": {
  "kernelspec": {
   "display_name": "Python 3",
   "language": "python",
   "name": "python3"
  },
  "language_info": {
   "codemirror_mode": {
    "name": "ipython",
    "version": 3
   },
   "file_extension": ".py",
   "mimetype": "text/x-python",
   "name": "python",
   "nbconvert_exporter": "python",
   "pygments_lexer": "ipython3",
   "version": "3.7.3"
  }
 },
 "nbformat": 4,
 "nbformat_minor": 2
}
